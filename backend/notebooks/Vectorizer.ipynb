{
 "cells": [
  {
   "cell_type": "markdown",
   "id": "8b06454b",
   "metadata": {},
   "source": [
    "#### SVG to PNG converter\n",
    "\n",
    "This uses cairosvg - pip install cairosvg (to add to environment if not present already)"
   ]
  },
  {
   "cell_type": "code",
   "execution_count": null,
   "id": "e19acb36",
   "metadata": {},
   "outputs": [],
   "source": [
    "import os\n",
    "import cairosvg\n",
    "\n",
    "def convert_svg_to_png(svg_path, output_path):\n",
    "    try:\n",
    "        cairosvg.svg2png(url=svg_path, write_to=output_path)\n",
    "        print(f\"Converted: {svg_path} → {output_path}\")\n",
    "    except Exception as e:\n",
    "        print(f\"Failed to convert {svg_path}: {e}\")\n",
    "\n",
    "\n",
    "def batch_convert(input_folder, output_folder):\n",
    "    os.makedirs(output_folder, exist_ok=True)\n",
    "    for filename in os.listdir(input_folder):\n",
    "        if filename.lower().endswith(\".svg\"):\n",
    "            input_path = os.path.join(input_folder, filename)\n",
    "            output_path = os.path.join(output_folder, os.path.splitext(filename)[0] + \".png\")\n",
    "            convert_svg_to_png(input_path, output_path)\n",
    "\n",
    "# CHANGE HERE:\n",
    "input_dir = \"../dataset/Queries/SVGLogos_10\"\n",
    "output_dir = \"../dataset/Queries/PNGed2\"\n",
    "batch_convert(input_dir, output_dir)\n"
   ]
  },
  {
   "cell_type": "markdown",
   "id": "d60567de",
   "metadata": {},
   "source": [
    "#### PNG to SVG converter - Vectorizer (Vtracer)\n",
    "\n",
    "This uses vtracer library. Install using - pip install vtracer"
   ]
  },
  {
   "cell_type": "code",
   "execution_count": null,
   "id": "f74b72ff",
   "metadata": {},
   "outputs": [],
   "source": [
    "import os\n",
    "import vtracer\n",
    "\n",
    "def batch_convert(input_folder, output_folder):\n",
    "    os.makedirs(output_folder, exist_ok=True)\n",
    "    for filename in os.listdir(input_folder):\n",
    "        if filename.lower().endswith(\".png\"):\n",
    "            input_path = os.path.join(input_folder, filename)\n",
    "            output_path = os.path.join(output_folder, os.path.splitext(filename)[0] + \".svg\")\n",
    "            print(f\"Processing {input_path}...\")\n",
    "            vtracer.convert_image_to_svg_py(input_path, output_path,\n",
    "                                colormode = 'color',        # [\"color\"] or \"binary\"\n",
    "                                hierarchical = 'cutout',   # [\"stacked\"] or \"cutout\"\n",
    "                                mode = 'spline',            # [\"spline\"] \"polygon\", or \"none\"\n",
    "                                filter_speckle = 4,         # default: 4\n",
    "                                color_precision = 6,        # default: 6\n",
    "                                layer_difference = 16,      # default: 16\n",
    "                                corner_threshold = 60,      # default: 60\n",
    "                                length_threshold = 4.0,     # in [3.5, 10] default: 4.0\n",
    "                                max_iterations = 10,        # default: 10\n",
    "                                splice_threshold = 45,      # default: 45\n",
    "                                path_precision = 3          # default: 8\n",
    "                                )\n",
    "            print(f\"Saved {output_path}\")\n",
    "\n",
    "# CHANGE HERE:\n",
    "input_dir = \"../dataset/Queries/PNGrotate\"\n",
    "output_dir = \"../dataset/Queries/Vectorized3\"\n",
    "batch_convert(input_dir, output_dir)"
   ]
  }
 ],
 "metadata": {
  "kernelspec": {
   "display_name": "deepsvg2",
   "language": "python",
   "name": "python3"
  },
  "language_info": {
   "name": "python",
   "version": "3.7.16"
  }
 },
 "nbformat": 4,
 "nbformat_minor": 5
}
