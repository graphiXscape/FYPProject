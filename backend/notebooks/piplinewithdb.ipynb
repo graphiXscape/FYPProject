{
 "cells": [
  {
   "cell_type": "code",
   "execution_count": 1,
   "metadata": {},
   "outputs": [],
   "source": [
    "%load_ext autoreload\n",
    "%autoreload 2"
   ]
  },
  {
   "cell_type": "code",
   "execution_count": 2,
   "metadata": {},
   "outputs": [],
   "source": [
    "import os\n",
    "os.chdir(\"..\")"
   ]
  },
  {
   "cell_type": "code",
   "execution_count": 3,
   "metadata": {},
   "outputs": [],
   "source": [
    "from deepsvg.svglib.svg import SVG\n",
    "\n",
    "from deepsvg import utils\n",
    "from deepsvg.difflib.tensor import SVGTensor\n",
    "from deepsvg.svglib.utils import to_gif\n",
    "from deepsvg.svglib.geom import Bbox\n",
    "from deepsvg.svgtensor_dataset import SVGTensorDataset, load_dataset\n",
    "from deepsvg.utils.utils import batchify, linear\n",
    "\n",
    "import torch\n",
    "import numpy as np"
   ]
  },
  {
   "cell_type": "markdown",
   "metadata": {},
   "source": [
    "# DeepSVG latent space operations"
   ]
  },
  {
   "cell_type": "code",
   "execution_count": 4,
   "metadata": {},
   "outputs": [],
   "source": [
    "device = torch.device(\"cuda:0\"if torch.cuda.is_available() else \"cpu\") "
   ]
  },
  {
   "cell_type": "markdown",
   "metadata": {},
   "source": [
    "Load the pretrained model and dataset"
   ]
  },
  {
   "cell_type": "code",
   "execution_count": 5,
   "metadata": {},
   "outputs": [
    {
     "name": "stdout",
     "output_type": "stream",
     "text": [
      "File loaded successfully.\n",
      "dict_keys(['model'])\n"
     ]
    }
   ],
   "source": [
    "pretrained_path = \"./pretrained/hierarchical_ordered.pth.tar\"\n",
    "from configs.deepsvg.hierarchical_ordered import Config\n",
    "\n",
    "try:\n",
    "    state_dict = torch.load(pretrained_path, map_location=torch.device('cpu'))  # Use 'cuda' if you have GPU\n",
    "    print(\"File loaded successfully.\")\n",
    "    print(state_dict.keys())  # Prints the keys to verify the content\n",
    "except Exception as e:\n",
    "    print(f\"Error loading the file: {e}\")\n",
    "\n",
    "cfg = Config()\n",
    "model = cfg.make_model().to(device)\n",
    "utils.load_model(pretrained_path, model)\n",
    "model.eval();"
   ]
  },
  {
   "cell_type": "code",
   "execution_count": 6,
   "metadata": {},
   "outputs": [],
   "source": [
    "dataset = load_dataset(cfg)"
   ]
  },
  {
   "cell_type": "code",
   "execution_count": 7,
   "metadata": {},
   "outputs": [],
   "source": [
    "def load_svg(filename):\n",
    "    svg = SVG.load_svg(filename)\n",
    "    svg.canonicalize()\n",
    "    svg.normalize()\n",
    "    svg.zoom(0.9)\n",
    "    svg = svg.simplify_heuristic()\n",
    "    svg =svg.numericalize(256)\n",
    "    return svg"
   ]
  },
  {
   "cell_type": "code",
   "execution_count": 8,
   "metadata": {},
   "outputs": [],
   "source": [
    "def encode(data):\n",
    "    model_args = batchify((data[key] for key in cfg.model_args), device)\n",
    "    with torch.no_grad():\n",
    "        z = model(*model_args, encode_mode=True)\n",
    "        return z\n",
    "    \n",
    "def encode_svg(svg):\n",
    "    data = dataset.get(svg=svg)\n",
    "    return encode(data)\n"
   ]
  },
  {
   "cell_type": "code",
   "execution_count": 9,
   "metadata": {},
   "outputs": [],
   "source": [
    "# Flask and CORS\n",
    "from flask import Flask, request, jsonify, send_from_directory\n",
    "from flask_cors import CORS\n",
    "\n",
    "# Standard libraries\n",
    "import os\n",
    "import uuid\n",
    "import base64\n",
    "import io\n",
    "\n",
    "# Image processing\n",
    "from PIL import Image as ImagePil\n",
    "from IPython.display import display\n",
    "import cairosvg\n",
    "\n",
    "# Math & Data\n",
    "import numpy as np\n",
    "import matplotlib.pyplot as plt\n",
    "from sklearn.decomposition import PCA\n",
    "from scipy.spatial import distance_matrix\n",
    "from scipy.spatial.distance import cosine, euclidean, directed_hausdorff\n",
    "from scipy.optimize import linear_sum_assignment\n",
    "from scipy.spatial import procrustes\n",
    "\n",
    "# SVG tools\n",
    "from svgpathtools import svg2paths, Path\n"
   ]
  },
  {
   "cell_type": "markdown",
   "metadata": {},
   "source": [
    "## DeepSVG- Lookup"
   ]
  },
  {
   "cell_type": "markdown",
   "metadata": {},
   "source": [
    "Milvus setup"
   ]
  },
  {
   "cell_type": "code",
   "execution_count": 10,
   "metadata": {},
   "outputs": [],
   "source": [
    "import os\n",
    "from pymilvus import connections\n",
    "from pymilvus import FieldSchema, DataType, CollectionSchema, Collection\n",
    "\n",
    "# Connect to Zilliz Cloud\n",
    "ENDPOINT = \"https://in03-754f3454a65e40f.serverless.gcp-us-west1.cloud.zilliz.com\"\n",
    "TOKEN = \"2b830a69fb087e580f904877ff816ff1477e67a38c091fc6b8c9c75d3992a458cc2deb681d3ae18dd91900855e1c538013080bf5\"\n",
    "connections.connect(uri=ENDPOINT, token=TOKEN)\n",
    "# print(\"Connected to Zilliz Cloud!\")\n",
    "\n",
    "# Load existing collection\n",
    "collection_name = \"fyp_project\"\n",
    "collection = Collection(name=collection_name)\n",
    "\n",
    "import torch  # Assuming PyTorch for tensor operations\n"
   ]
  },
  {
   "cell_type": "markdown",
   "metadata": {},
   "source": [
    "Mongodb Setup"
   ]
  },
  {
   "cell_type": "code",
   "execution_count": 11,
   "metadata": {},
   "outputs": [
    {
     "name": "stdout",
     "output_type": "stream",
     "text": [
      "✅ MongoDB connection established successfully.\n"
     ]
    }
   ],
   "source": [
    "import pymongo\n",
    "# MongoDB setup\n",
    "try:\n",
    "    mongo_client = pymongo.MongoClient(\"mongodb://localhost:27017/\", serverSelectionTimeoutMS=3000)\n",
    "    mongo_client.server_info()  # Force connection check\n",
    "    mongo_db = mongo_client[\"logoDB\"]\n",
    "    mongo_collection = mongo_db[\"logos\"]\n",
    "    print(\"✅ MongoDB connection established successfully.\")\n",
    "except pymongo.errors.ServerSelectionTimeoutError as err:\n",
    "    print(f\"❌ Failed to connect to MongoDB: {err}\")\n"
   ]
  },
  {
   "cell_type": "markdown",
   "metadata": {},
   "source": [
    "Milvus schema setup"
   ]
  },
  {
   "cell_type": "code",
   "execution_count": null,
   "metadata": {},
   "outputs": [],
   "source": [
    "# from pymilvus import MilvusClient, DataType\n",
    "# import numpy as np\n",
    "\n",
    "# client = MilvusClient(uri=\"https://in03-754f3454a65e40f.serverless.gcp-us-west1.cloud.zilliz.com\", token=\"2b830a69fb087e580f904877ff816ff1477e67a38c091fc6b8c9c75d3992a458cc2deb681d3ae18dd91900855e1c538013080bf5\")\n",
    "\n",
    "# schema = client.create_schema(enable_dynamic_field=True, description=\"\")\n",
    "# schema.add_field(field_name=\"Auto_id\", datatype=DataType.INT64, description=\"The Primary Key\", is_primary=True, auto_id=True)\n",
    "# schema.add_field(field_name=\"vector\", datatype=DataType.FLOAT_VECTOR, dim=256)\n",
    "\n",
    "# index_params = client.prepare_index_params()\n",
    "# index_params.add_index(field_name=\"vector\", metric_type=\"COSINE\", index_type=\"AUTOINDEX\")\n",
    "\n",
    "\n",
    "# client.create_collection(collection_name=\"fyp_project\", schema=schema, index_params=index_params)\n"
   ]
  },
  {
   "cell_type": "markdown",
   "metadata": {},
   "source": [
    "## Register Logo- Print the data passed from the front end"
   ]
  },
  {
   "cell_type": "code",
   "execution_count": 12,
   "metadata": {},
   "outputs": [
    {
     "name": "stdout",
     "output_type": "stream",
     "text": [
      " * Serving Flask app '__main__'\n",
      " * Debug mode: on\n"
     ]
    },
    {
     "name": "stderr",
     "output_type": "stream",
     "text": [
      "WARNING: This is a development server. Do not use it in a production deployment. Use a production WSGI server instead.\n",
      " * Running on http://127.0.0.1:5000\n",
      "Press CTRL+C to quit\n",
      "127.0.0.1 - - [21/Apr/2025 01:25:55] \"POST /api/register-logo HTTP/1.1\" 200 -\n"
     ]
    },
    {
     "name": "stdout",
     "output_type": "stream",
     "text": [
      "(insert count: 1, delete count: 0, upsert count: 0, timestamp: 457488192041385987, success count: 1, err count: 0)\n"
     ]
    },
    {
     "name": "stderr",
     "output_type": "stream",
     "text": [
      "127.0.0.1 - - [21/Apr/2025 01:26:10] \"POST /api/lookup-logo HTTP/1.1\" 404 -\n",
      "127.0.0.1 - - [21/Apr/2025 01:26:19] \"POST /api/lookup-logo HTTP/1.1\" 404 -\n"
     ]
    }
   ],
   "source": [
    "app = Flask(__name__)\n",
    "CORS(app)\n",
    "\n",
    "DATASET_DIR = \"./dataset/Dataset_simplified\"\n",
    "PNG_OUTPUT_DIR = \"./dataset/rendered_pngs\"\n",
    "TEMP_DIR = \"./temp\"\n",
    "os.makedirs(DATASET_DIR, exist_ok=True)\n",
    "os.makedirs(PNG_OUTPUT_DIR, exist_ok=True)\n",
    "os.makedirs(TEMP_DIR, exist_ok=True)\n",
    "\n",
    "# MongoDB setup\n",
    "mongo_client = pymongo.MongoClient(\"mongodb://localhost:27017/\")\n",
    "mongo_db = mongo_client[\"logoDB\"]\n",
    "mongo_collection = mongo_db[\"logos\"]\n",
    "\n",
    "def load_and_encode(svg_path):\n",
    "    try:\n",
    "        svg = load_svg(svg_path)\n",
    "        vector = encode_svg(svg)\n",
    "        embedding_array = vector.flatten().numpy()\n",
    "        if embedding_array.shape[0] != 256:\n",
    "            raise ValueError(f\"Embedding dimension is {embedding_array.shape[0]}, expected 256\")\n",
    "        return embedding_array.tolist()\n",
    "    except Exception as e:\n",
    "        print(f\"Encoding failed for {svg_path}: {e}\")\n",
    "        return None\n",
    "\n",
    "@app.route('/api/register-logo', methods=['POST'])\n",
    "def register_logo():\n",
    "    if 'logo' not in request.files:\n",
    "        return jsonify({'error': 'No file uploaded'}), 400\n",
    "\n",
    "    file = request.files['logo']\n",
    "    if not file or file.filename == '' or not file.filename.endswith('.svg'):\n",
    "        return jsonify({'error': 'Invalid or missing SVG file'}), 400\n",
    "\n",
    "    # Unique ID and paths\n",
    "    logo_id = str(uuid.uuid4())\n",
    "    svg_filename = f\"{logo_id}.svg\"\n",
    "    png_filename = f\"{logo_id}.png\"\n",
    "    svg_path = os.path.join(DATASET_DIR, svg_filename)\n",
    "    png_path = os.path.join(PNG_OUTPUT_DIR, png_filename)\n",
    "\n",
    "    # Save SVG\n",
    "    file.save(svg_path)\n",
    "\n",
    "    # Encode SVG\n",
    "    embedding = load_and_encode(svg_path)\n",
    "    if embedding is None:\n",
    "        return jsonify({'error': 'Failed to encode SVG'}), 500\n",
    "\n",
    "    # Insert into Milvus\n",
    "    mr = collection.insert([ [embedding] ])\n",
    "    print(mr)\n",
    "    milvus_id = mr.primary_keys[0]\n",
    "\n",
    "    # Convert to PNG\n",
    "    # cairosvg.svg2png(file_obj=open(svg_path, \"rb\"), write_to=png_path)\n",
    "\n",
    "    # Read SVG file content\n",
    "    with open(svg_path, 'r', encoding='utf-8') as svg_file:\n",
    "        svg_content = svg_file.read()\n",
    "\n",
    "    # Save metadata and SVG content in MongoDB\n",
    "    mongo_record = {\n",
    "        \"logo_id\": logo_id,\n",
    "        \"svg_content\": svg_content,\n",
    "        \"milvus_id\": milvus_id,\n",
    "        \"file_name\": file.filename\n",
    "    }\n",
    "\n",
    "    mongo_collection.insert_one(mongo_record)\n",
    "\n",
    "    return jsonify({\n",
    "        \"message\": \"Logo registered successfully\",\n",
    "        \"logo_id\": logo_id,\n",
    "        \"milvus_id\": milvus_id\n",
    "    })\n",
    "\n",
    "# Serve static PNGs\n",
    "@app.route('/static/<filename>')\n",
    "def serve_png(filename):\n",
    "    return send_from_directory(PNG_OUTPUT_DIR, filename)\n",
    "\n",
    "app.run(port=5000, debug=True, use_reloader=False)\n"
   ]
  },
  {
   "cell_type": "code",
   "execution_count": 12,
   "metadata": {},
   "outputs": [
    {
     "name": "stdout",
     "output_type": "stream",
     "text": [
      " * Serving Flask app '__main__'\n",
      " * Debug mode: on\n"
     ]
    },
    {
     "name": "stderr",
     "output_type": "stream",
     "text": [
      "WARNING: This is a development server. Do not use it in a production deployment. Use a production WSGI server instead.\n",
      " * Running on http://127.0.0.1:5000\n",
      "Press CTRL+C to quit\n"
     ]
    },
    {
     "name": "stdout",
     "output_type": "stream",
     "text": [
      "delete1\n",
      "delete11\n",
      "delete111\n"
     ]
    },
    {
     "name": "stderr",
     "output_type": "stream",
     "text": [
      "127.0.0.1 - - [21/Apr/2025 01:30:24] \"POST /api/lookup-logo HTTP/1.1\" 200 -\n"
     ]
    },
    {
     "name": "stdout",
     "output_type": "stream",
     "text": [
      "Search results (raw): [\"['id: 456575839311535064, distance: 0.5963233709335327, entity: {}', 'id: 456575839304388171, distance: 0.5925104022026062, entity: {}', 'id: 456575839309966379, distance: 0.4008810222148895, entity: {}', 'id: 456575839311510024, distance: 0.3864792585372925, entity: {}', 'id: 456575839309966488, distance: 0.168972447514534, entity: {}']\"]\n"
     ]
    },
    {
     "name": "stderr",
     "output_type": "stream",
     "text": [
      "127.0.0.1 - - [21/Apr/2025 01:30:25] \"GET /static/456575839311535064.png HTTP/1.1\" 200 -\n",
      "127.0.0.1 - - [21/Apr/2025 01:30:25] \"GET /static/456575839304388171.png HTTP/1.1\" 304 -\n",
      "127.0.0.1 - - [21/Apr/2025 01:30:25] \"GET /static/456575839309966379.png HTTP/1.1\" 304 -\n",
      "127.0.0.1 - - [21/Apr/2025 01:30:25] \"GET /static/456575839311510024.png HTTP/1.1\" 304 -\n",
      "127.0.0.1 - - [21/Apr/2025 01:30:25] \"GET /static/456575839309966488.png HTTP/1.1\" 304 -\n"
     ]
    }
   ],
   "source": [
    "from flask import Flask, request, jsonify, send_from_directory\n",
    "from flask_cors import CORS\n",
    "import os, uuid\n",
    "import cairosvg\n",
    "import pymongo\n",
    "from pymilvus import Collection, connections\n",
    "\n",
    "app = Flask(__name__)\n",
    "CORS(app)\n",
    "\n",
    "PNG_OUTPUT_DIR = \"./dataset/rendered_pngs\"\n",
    "TEMP_DIR = \"./temp\"\n",
    "os.makedirs(PNG_OUTPUT_DIR, exist_ok=True)\n",
    "os.makedirs(TEMP_DIR, exist_ok=True)\n",
    "\n",
    "\n",
    "def load_and_encode(svg_path):\n",
    "    try:\n",
    "        svg = load_svg(svg_path)\n",
    "        vector = encode_svg(svg)\n",
    "        embedding_array = vector.flatten().numpy()\n",
    "        if embedding_array.shape[0] != 256:\n",
    "            raise ValueError(f\"Embedding dimension is {embedding_array.shape[0]}, expected 256\")\n",
    "        return embedding_array.tolist()\n",
    "    except Exception as e:\n",
    "        print(f\"Encoding failed for {svg_path}: {e}\")\n",
    "        return None\n",
    "\n",
    "@app.route('/api/lookup-logo', methods=['POST'])\n",
    "def lookup_logo():\n",
    "    if 'logo' not in request.files:\n",
    "        return jsonify({'error': 'No file uploaded'}), 400\n",
    "\n",
    "    file = request.files['logo']\n",
    "    print(\"delete1\")\n",
    "    if not file or file.filename == '' or not file.filename.endswith('.svg'):\n",
    "        return jsonify({'error': 'Invalid file'}), 400\n",
    "\n",
    "    # Save uploaded file temporarily\n",
    "    temp_id = str(uuid.uuid4())\n",
    "    temp_path = f\"./temp/{temp_id}.svg\"\n",
    "    file.save(temp_path)\n",
    "\n",
    "    target_vector = load_and_encode(temp_path)\n",
    "    print(\"delete11\")\n",
    "    os.remove(temp_path)\n",
    "\n",
    "    if target_vector is None:\n",
    "        return jsonify({'error': 'SVG encoding failed'}), 500\n",
    "\n",
    "    # Milvus search\n",
    "    print(\"delete111\")\n",
    "    results = collection.search(\n",
    "        data=[target_vector],\n",
    "        anns_field=\"vector\",\n",
    "        param={\"metric_type\": \"COSINE\"},\n",
    "        limit=5,\n",
    "        output_fields=[\"milvus_id\"]\n",
    "    )\n",
    "\n",
    "    print(\"Search results (raw):\", results)\n",
    "\n",
    "    matches = []\n",
    "    for hit in results[0]:\n",
    "        try:\n",
    "            milvus_id = hit.id  # or hit.entity.get(\"milvus_id\") depending on how it's stored\n",
    "            mongo_doc = mongo_collection.find_one({\"milvus_id\": milvus_id})\n",
    "\n",
    "            if not mongo_doc:\n",
    "                print(f\"⚠️ No MongoDB entry for milvus_id {milvus_id}\")\n",
    "                continue\n",
    "\n",
    "            # Extract SVG content\n",
    "            svg_content = mongo_doc.get(\"svg_content\")\n",
    "            if not svg_content:\n",
    "                continue\n",
    "\n",
    "            # Generate unique PNG filename\n",
    "            png_name = f\"{milvus_id}.png\"\n",
    "            png_path = os.path.join(PNG_OUTPUT_DIR, png_name)\n",
    "\n",
    "            # Save converted PNG if not exists\n",
    "            if not os.path.exists(png_path):\n",
    "                with open(png_path, \"wb\") as f:\n",
    "                    cairosvg.svg2png(bytestring=svg_content.encode('utf-8'), write_to=f)\n",
    "\n",
    "            matches.append({\n",
    "                \"logoUrl\": f\"http://localhost:5000/static/{png_name}\",\n",
    "                \"companyUrl\": f\"https://example.com/brand/{mongo_doc.get('logo_id')}\",\n",
    "                \"score\": round(1 - hit.distance, 4)\n",
    "            })\n",
    "\n",
    "        except Exception as e:\n",
    "            print(f\"Error processing result: {e}\")\n",
    "\n",
    "    return jsonify({'matches': matches})\n",
    "\n",
    "\n",
    "@app.route('/static/<filename>')\n",
    "def serve_png(filename):\n",
    "    return send_from_directory(PNG_OUTPUT_DIR, filename)\n",
    "\n",
    "\n",
    "app.run(port=5000, debug=True, use_reloader=False)\n"
   ]
  },
  {
   "cell_type": "code",
   "execution_count": null,
   "metadata": {},
   "outputs": [],
   "source": [
    "# app = Flask(__name__)\n",
    "# CORS(app) \n",
    "\n",
    "# DATASET_DIR = \"./dataset/Registered_Dataset_simplified\"\n",
    "# PNG_OUTPUT_DIR = \"./dataset/rendered_pngs\"\n",
    "\n",
    "# def load_and_encode(svg_path):\n",
    "#     try:\n",
    "#         svg = load_svg(svg_path)\n",
    "#         vector = encode_svg(svg)\n",
    "#         embedding_array = vector.flatten().numpy()  # Convert to NumPy array\n",
    "#         if embedding_array.shape[0] != 256:\n",
    "#             raise ValueError(f\"Embedding dimension is {embedding_array.shape[0]}, expected 256\")\n",
    "#         return embedding_array.tolist()  # Convert to Python list\n",
    "#     except Exception as e:\n",
    "#         print(f\"Encoding failed for {svg_path}: {e}\")\n",
    "#         return None\n",
    "\n",
    "# @app.route('/api/lookup-logo', methods=['POST'])\n",
    "# def lookup_logo():\n",
    "#     if 'logo' not in request.files:\n",
    "#         return jsonify({'error': 'No file uploaded'}), 400\n",
    "\n",
    "#     file = request.files['logo']\n",
    "#     if not file or file.filename == '':\n",
    "#         return jsonify({'error': 'Invalid file'}), 400\n",
    "\n",
    "#     if not file.filename.endswith('.svg'):\n",
    "#         return jsonify({'error': 'Only SVG files are allowed'}), 400\n",
    "\n",
    "#     # Save uploaded SVG temporarily\n",
    "#     temp_id = str(uuid.uuid4())\n",
    "#     temp_path = f\"./temp/{temp_id}.svg\"\n",
    "#     os.makedirs(\"./temp\", exist_ok=True)\n",
    "#     file.save(temp_path)\n",
    "\n",
    "#     target_vector = load_and_encode(temp_path)\n",
    "#     if target_vector is None:\n",
    "#         return jsonify({'error': 'SVG encoding failed'}), 500\n",
    "\n",
    "#      # Search for visually similar images\n",
    "#     results = collection.search(\n",
    "#         data=[target_vector],\n",
    "#         anns_field=\"vector\",  # field name for the vector\n",
    "#         param={\"metric_type\": \"COSINE\"},  # Specify the metric type\n",
    "#         limit=5, \n",
    "#         output_fields=[\"image_path\"],  # Return image paths\n",
    "#     )\n",
    "#     print(\"Search results (raw):\", results)\n",
    "\n",
    "    \n",
    "#     matches = []\n",
    "#     for hit in results[0]:  # results[0] is the list of hits for our one query\n",
    "#         try:\n",
    "#             image_path = hit.entity.get('image_path')\n",
    "#             logo_filename = os.path.basename(image_path)\n",
    "#             png_name = logo_filename.replace('.svg', '.png')\n",
    "#             png_path = os.path.join(PNG_OUTPUT_DIR, png_name)\n",
    "\n",
    "#             # Convert SVG to PNG if it doesn't exist\n",
    "#             if not os.path.exists(png_path):\n",
    "#                 os.makedirs(PNG_OUTPUT_DIR, exist_ok=True)\n",
    "#                 cairosvg.svg2png(file_obj=open(image_path, \"rb\"), write_to=png_path)\n",
    "\n",
    "#             match = {\n",
    "#                 \"logoUrl\": f\"http://localhost:5000/static/{png_name}\",\n",
    "#                 \"companyUrl\": f\"https://example.com/brand/{logo_filename.replace('.svg', '')}\",\n",
    "#                 \"score\": round(1 - hit.distance, 4)  # convert cosine distance to similarity\n",
    "#             }\n",
    "#             matches.append(match)\n",
    "#             print(\"Parsed match:\", match)\n",
    "#         except Exception as e:\n",
    "#             print(f\"Error processing hit: {hit}, error: {e}\")\n",
    "\n",
    "\n",
    "#     os.remove(temp_path)  # Clean up\n",
    "#     print(matches)\n",
    "#     return jsonify({'matches': matches})\n",
    "\n",
    "# # Serve static images\n",
    "# @app.route('/static/<filename>')\n",
    "# def serve_png(filename):\n",
    "#     return send_from_directory(PNG_OUTPUT_DIR, filename)\n",
    "\n",
    "# app.run(port=5000, debug=True, use_reloader=False)"
   ]
  }
 ],
 "metadata": {
  "kernelspec": {
   "display_name": "deepsvg",
   "language": "python",
   "name": "python3"
  },
  "language_info": {
   "codemirror_mode": {
    "name": "ipython",
    "version": 3
   },
   "file_extension": ".py",
   "mimetype": "text/x-python",
   "name": "python",
   "nbconvert_exporter": "python",
   "pygments_lexer": "ipython3",
   "version": "3.7.12"
  }
 },
 "nbformat": 4,
 "nbformat_minor": 2
}
